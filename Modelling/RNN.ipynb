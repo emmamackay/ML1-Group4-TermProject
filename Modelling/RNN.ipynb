{
 "cells": [
  {
   "cell_type": "markdown",
   "metadata": {},
   "source": [
    "## Imports and Set Run Parameters"
   ]
  },
  {
   "cell_type": "code",
   "execution_count": 1,
   "metadata": {},
   "outputs": [],
   "source": [
    "import numpy as np\n",
    "import pandas as pd\n",
    "from sklearn.linear_model import LinearRegression\n",
    "import matplotlib.pyplot as plt\n",
    "plt.style.use('seaborn')"
   ]
  },
  {
   "cell_type": "code",
   "execution_count": 2,
   "metadata": {},
   "outputs": [],
   "source": [
    "# set parameters\n",
    "label = 'deaths'\n",
    "lag_window = [i+7 for i in range(7)]\n",
    "percent_test = 0.5"
   ]
  },
  {
   "cell_type": "markdown",
   "metadata": {},
   "source": [
    "## Load and Explore Data"
   ]
  },
  {
   "cell_type": "code",
   "execution_count": 3,
   "metadata": {},
   "outputs": [],
   "source": [
    "# Load Data\n",
    "df_ny = pd.read_csv('https://raw.githubusercontent.com/nytimes/covid-19-data/master/us-counties.csv')\n",
    "df_meta_data = pd.read_csv('../ACS_full_data_wo_over_60.csv')\n",
    "# df_meta_data = pd.read_csv('https://raw.githubusercontent.com/emmamackay/ML1-Group4/master/ACS_full_data_wo_over_60.csv?token=ANUVMQO3NBFRDM64WCTGJDK6WN6NE')"
   ]
  },
  {
   "cell_type": "markdown",
   "metadata": {},
   "source": [
    "## Clean/Tranform and Merge Data"
   ]
  },
  {
   "cell_type": "code",
   "execution_count": 4,
   "metadata": {},
   "outputs": [],
   "source": [
    "# data clease cases - filter out entries with fewer than 10 deaths\n",
    "df_ny = df_ny[['date','state','county', 'fips','cases','deaths']]\n",
    "df_ny = df_ny[df_ny['deaths']>=10]\n",
    "df_ny['state'] = df_ny['state'].str.lower()"
   ]
  },
  {
   "cell_type": "code",
   "execution_count": 5,
   "metadata": {},
   "outputs": [],
   "source": [
    "# data clease meta - transform state for join\n",
    "df_meta_data = df_meta_data.rename(str.lower, axis = 'columns')\n",
    "df_meta_data['state'] = df_meta_data['state'].str.lower()"
   ]
  },
  {
   "cell_type": "code",
   "execution_count": 6,
   "metadata": {},
   "outputs": [],
   "source": [
    "# merge data on cases with meta data\n",
    "df_merged = pd.merge(df_ny, df_meta_data, how = 'inner', left_on=[\"county\", \"state\"], right_on=[\"county\", \"state\"])"
   ]
  },
  {
   "cell_type": "code",
   "execution_count": 7,
   "metadata": {},
   "outputs": [],
   "source": [
    "# create lagged data\n",
    "for i in (lag_window):\n",
    "    df_merged[f'cases_lag{str(i+1)}'] = df_merged.groupby(['fips'])['cases'].shift((i+1))\n",
    "    df_merged[f'deaths_lag{str(i+1)}'] = df_merged.groupby(['fips'])['deaths'].shift((i+1))"
   ]
  },
  {
   "cell_type": "code",
   "execution_count": 8,
   "metadata": {},
   "outputs": [],
   "source": [
    "# create additional features\n",
    "df_merged['pctMale'] = df_merged['e_total_pop_sex_male']/df_merged['et_total_population']\n",
    "df_merged['pctSS'] = df_merged['e_total_households_with_income_with_social_security']/df_merged['et_total_population']\n",
    "df_merged['pctRetInc'] = df_merged['e_total_households_with_income_with_retirement_income']/df_merged['et_total_population']\n",
    "df_merged['pctWhite'] = df_merged['e_total_pop_race_white']/df_merged['et_total_population']\n",
    "df_merged['pctPoverty'] = df_merged['e_total_pop_poverty_status_below_100_percent']/df_merged['et_total_population']"
   ]
  },
  {
   "cell_type": "markdown",
   "metadata": {},
   "source": [
    "## Split Train and Test and Standardize Features"
   ]
  },
  {
   "cell_type": "code",
   "execution_count": 9,
   "metadata": {},
   "outputs": [],
   "source": [
    "# split into train and test based on county (fips)\n",
    "num_train = int(len(df_merged['fips'].unique()))\n",
    "unique_counties_np = df_merged['fips'].unique()\n",
    "unique_counties = pd.DataFrame(data = unique_counties_np)\n",
    "\n",
    "train_counties = unique_counties.sample(int(num_train * (1-percent_test)))\n",
    "test_counties = unique_counties.loc[~unique_counties.index.isin(train_counties.index)]"
   ]
  },
  {
   "cell_type": "code",
   "execution_count": 10,
   "metadata": {},
   "outputs": [],
   "source": [
    "# extract train and test data\n",
    "train_counties = train_counties[0].values.tolist()\n",
    "test_counties = test_counties[0].values.tolist()\n",
    "df_train = df_merged[df_merged['fips'].isin(train_counties)]\n",
    "df_test =  df_merged[df_merged['fips'].isin(test_counties)]\n",
    "\n",
    "df_train= df_train.dropna()\n",
    "df_test= df_test.dropna()"
   ]
  },
  {
   "cell_type": "code",
   "execution_count": 11,
   "metadata": {},
   "outputs": [],
   "source": [
    "# standardize features - train and test separately\n",
    "s0 = df_train.iloc[:,4:]\n",
    "df_train.iloc[:,4:] = (s0 - s0.mean()) / (s0.max() - s0.min())\n",
    "\n",
    "s0 = df_test.iloc[:,4:]\n",
    "df_test.iloc[:,4:] = (s0 - s0.mean()) / (s0.max() - s0.min())"
   ]
  },
  {
   "cell_type": "markdown",
   "metadata": {},
   "source": [
    "# Model 1: RNN Implementation"
   ]
  },
  {
   "cell_type": "code",
   "execution_count": 12,
   "metadata": {},
   "outputs": [],
   "source": [
    "cases_features = [f'cases_lag{i+1}' for i in (lag_window)]\n",
    "deaths_features = [f'deaths_lag{i+1}' for i in (lag_window)]\n",
    "static_features = ['pop_density', 'et_total_population', 'em_total_pop_median_age', 'em_transportation_mean_travel_time', 'em_total_housing_units_avg_household_size_rented', 'pctMale', 'pctSS', 'pctRetInc', 'pctWhite', 'pctPoverty']"
   ]
  },
  {
   "cell_type": "code",
   "execution_count": 13,
   "metadata": {},
   "outputs": [],
   "source": [
    "# transform training features and labels\n",
    "trn_x_c = df_train[cases_features].values.reshape(-1,1,len(lag_window))\n",
    "trn_x_d = df_train[deaths_features].values.reshape(-1,1,len(lag_window))\n",
    "trn_x_s = (df_train[static_features].values.reshape(-1,10,1) * np.ones(trn_x_c.shape[-1]))\n",
    "\n",
    "trn_x = np.append(np.append(trn_x_c, trn_x_d, axis=1), trn_x_s, axis=1)\n",
    "trn_y = np.array(df_train[[label]].values, dtype=np.float32).reshape(-1, 1)"
   ]
  },
  {
   "cell_type": "code",
   "execution_count": 14,
   "metadata": {},
   "outputs": [],
   "source": [
    "# transform training features and labels\n",
    "test_x_c = df_test[cases_features].values.reshape(-1,1,len(lag_window))\n",
    "test_x_d = df_test[deaths_features].values.reshape(-1,1,len(lag_window))\n",
    "test_x_s = (df_test[static_features].values.reshape(-1,10,1) * np.ones(test_x_c.shape[-1]))\n",
    "\n",
    "test_x = np.append(np.append(test_x_c, test_x_d, axis=1), test_x_s, axis=1)\n",
    "test_y = np.array(df_test[[label]].values, dtype=np.float32).reshape(-1, 1)"
   ]
  },
  {
   "cell_type": "code",
   "execution_count": 15,
   "metadata": {},
   "outputs": [],
   "source": [
    "import pandas as pd\n",
    "import numpy as np\n",
    "import matplotlib.pyplot as plt\n",
    "plt.style.use('seaborn')\n",
    "\n",
    "import mxnet\n",
    "import mxnet.gluon as G\n",
    "\n",
    "from sklearn.preprocessing import MinMaxScaler\n",
    "from sklearn.preprocessing import LabelEncoder"
   ]
  },
  {
   "cell_type": "code",
   "execution_count": 16,
   "metadata": {},
   "outputs": [],
   "source": [
    "# convert to mxnet array\n",
    "trn_x = mxnet.nd.array(trn_x)\n",
    "trn_y = mxnet.nd.array(trn_y)\n",
    "\n",
    "test_x = mxnet.nd.array(test_x)\n",
    "test_y = mxnet.nd.array(test_y)"
   ]
  },
  {
   "cell_type": "code",
   "execution_count": 17,
   "metadata": {},
   "outputs": [
    {
     "name": "stdout",
     "output_type": "stream",
     "text": [
      "Net(\n",
      "  (lstm): LSTM(None -> 64, TNC, num_layers=3, dropout=0.2)\n",
      "  (out): Dense(None -> 1, linear)\n",
      ")\n"
     ]
    }
   ],
   "source": [
    "class Net(G.Block):\n",
    "    def __init__(self, **kwargs):\n",
    "        super(Net, self).__init__(**kwargs)\n",
    "        with self.name_scope():\n",
    "            \n",
    "            self.lstm = G.rnn.LSTM(hidden_size=64,num_layers=3,dropout=0.2)\n",
    "            self.out = G.nn.Dense(1)\n",
    "            \n",
    "    def forward(self,x):\n",
    "        \n",
    "        x = self.lstm(x)\n",
    "        x = self.out(x)\n",
    "        \n",
    "        return x\n",
    "    \n",
    "Model = Net()\n",
    "print(Model)"
   ]
  },
  {
   "cell_type": "code",
   "execution_count": 18,
   "metadata": {},
   "outputs": [],
   "source": [
    "# initialize model\n",
    "device = mxnet.gpu(0) if mxnet.context.num_gpus() > 0 else mxnet.cpu(0)\n",
    "Model.initialize(mxnet.init.Xavier(), ctx=device)"
   ]
  },
  {
   "cell_type": "code",
   "execution_count": 19,
   "metadata": {},
   "outputs": [],
   "source": [
    "trainer = G.Trainer(\n",
    "    params=Model.collect_params(),\n",
    "    optimizer='adam',\n",
    "    optimizer_params={'learning_rate': 0.01},\n",
    ")"
   ]
  },
  {
   "cell_type": "code",
   "execution_count": 20,
   "metadata": {},
   "outputs": [],
   "source": [
    "# define loss function\n",
    "loss_function = G.loss.L2Loss()\n",
    "mse = mxnet.metric.MSE()"
   ]
  },
  {
   "cell_type": "code",
   "execution_count": 21,
   "metadata": {},
   "outputs": [
    {
     "name": "stdout",
     "output_type": "stream",
     "text": [
      "epoch: 1 | trn_loss: 0.01286454, test_loss: 0.01457923\n",
      "epoch: 2 | trn_loss: 0.00651180, test_loss: 0.00886239\n",
      "epoch: 3 | trn_loss: 0.00315272, test_loss: 0.00304630\n",
      "epoch: 4 | trn_loss: 0.00321784, test_loss: 0.00452910\n",
      "epoch: 5 | trn_loss: 0.00222453, test_loss: 0.00251449\n",
      "epoch: 6 | trn_loss: 0.00295402, test_loss: 0.00347273\n",
      "epoch: 7 | trn_loss: 0.00185436, test_loss: 0.00247155\n",
      "epoch: 8 | trn_loss: 0.00181143, test_loss: 0.00238141\n",
      "epoch: 9 | trn_loss: 0.00185608, test_loss: 0.00212338\n",
      "epoch: 10 | trn_loss: 0.00159712, test_loss: 0.00210496\n",
      "epoch: 11 | trn_loss: 0.00166388, test_loss: 0.00234575\n",
      "epoch: 12 | trn_loss: 0.00169972, test_loss: 0.00212994\n",
      "epoch: 13 | trn_loss: 0.00154963, test_loss: 0.00210239\n",
      "epoch: 14 | trn_loss: 0.00220325, test_loss: 0.00304787\n",
      "epoch: 15 | trn_loss: 0.00143352, test_loss: 0.00225647\n",
      "epoch: 16 | trn_loss: 0.00161689, test_loss: 0.00216563\n",
      "epoch: 17 | trn_loss: 0.00132282, test_loss: 0.00153343\n",
      "epoch: 18 | trn_loss: 0.00135488, test_loss: 0.00162641\n",
      "epoch: 19 | trn_loss: 0.00141957, test_loss: 0.00178232\n",
      "epoch: 20 | trn_loss: 0.00118889, test_loss: 0.00186616\n"
     ]
    }
   ],
   "source": [
    "from mxnet import autograd\n",
    "\n",
    "EPOCHS = 20\n",
    "\n",
    "trn_loss = []\n",
    "test_loss = []\n",
    "results_list = []\n",
    "\n",
    "train_iter = mxnet.io.NDArrayIter(trn_x, trn_y, 100, shuffle=True)\n",
    "\n",
    "for epoch in range(EPOCHS):\n",
    "    \n",
    "    for trn_batch in train_iter:\n",
    "\n",
    "        x = trn_batch.data[0].as_in_context(device)\n",
    "        y = trn_batch.label[0].as_in_context(device)\n",
    "        \n",
    "        with autograd.record():\n",
    "            y_pred = Model(x)\n",
    "            loss = loss_function(y_pred, y)\n",
    "        \n",
    "        #backprop\n",
    "        loss.backward()\n",
    "        \n",
    "        #Optimize!\n",
    "        trainer.step(batch_size=trn_x.shape[0])\n",
    "    \n",
    "    train_iter.reset()\n",
    "    \n",
    "    # Calculate train metrics\n",
    "    \n",
    "    predictions = Model(trn_x.as_in_context(device))\n",
    "    mse.update(trn_y, predictions)\n",
    "    trn_loss.append(mse.get()[1])\n",
    "    mse.reset()\n",
    "    \n",
    "    predictions_test = Model(test_x.as_in_context(device))\n",
    "    mse.update(test_y, predictions_test)\n",
    "    test_loss.append(mse.get()[1])\n",
    "    mse.reset()\n",
    "    \n",
    "    train_iter.reset()\n",
    "    \n",
    "    results_dict = {'epoch': epoch + 1, \n",
    "                'train_loss': trn_loss[-1], \n",
    "                'test_loss': test_loss[-1]}\n",
    "    results_list.append(results_dict)\n",
    "     \n",
    "    \n",
    "    print(\"epoch: {} | trn_loss: {:.8f}, test_loss: {:.8f}\".format(epoch+1,\n",
    "                                                trn_loss[-1], test_loss[-1]))"
   ]
  },
  {
   "cell_type": "code",
   "execution_count": 22,
   "metadata": {},
   "outputs": [
    {
     "data": {
      "text/plain": [
       "<matplotlib.axes._subplots.AxesSubplot at 0x1a247e2be0>"
      ]
     },
     "execution_count": 22,
     "metadata": {},
     "output_type": "execute_result"
    },
    {
     "data": {
      "image/png": "[encoded data removed]",
      "text/plain": [
       "<Figure size 576x396 with 1 Axes>"
      ]
     },
     "metadata": {},
     "output_type": "display_data"
    }
   ],
   "source": [
    "# extract results\n",
    "df_out = pd.DataFrame(results_list)\n",
    "df_out = df_out.astype({'train_loss': 'float32', 'test_loss': 'float32'})\n",
    "\n",
    "# plot results\n",
    "df_out.plot(x='epoch', y=['train_loss', 'test_loss'], title = 'RNN training and test loss')"
   ]
  }
 ],
 "metadata": {
  "kernelspec": {
   "display_name": "Python 3",
   "language": "python",
   "name": "python3"
  },
  "language_info": {
   "codemirror_mode": {
    "name": "ipython",
    "version": 3
   },
   "file_extension": ".py",
   "mimetype": "text/x-python",
   "name": "python",
   "nbconvert_exporter": "python",
   "pygments_lexer": "ipython3",
   "version": "3.6.9"
  }
 },
 "nbformat": 4,
 "nbformat_minor": 2
}
